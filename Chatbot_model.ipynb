{
 "cells": [
  {
   "cell_type": "markdown",
   "id": "673c23b5",
   "metadata": {},
   "source": [
    "# Q&A Chat Bots"
   ]
  },
  {
   "cell_type": "markdown",
   "id": "1cb40e1d",
   "metadata": {},
   "source": [
    "Dataset : Babi Data Set from Facebook Research. Full Details: https://research.fb.com/downloads/babi/\n",
    "\n",
    "Process taken from paper:\n",
    "- Jason Weston, Antoine Bordes, Sumit Chopra, Tomas Mikolov, Alexander M. Rush,\n",
    "  \"Towards AI-Complete Question Answering: A Set of Prerequisite Toy Tasks\",\n",
    "  http://arxiv.org/abs/1502.05698"
   ]
  },
  {
   "cell_type": "code",
   "execution_count": 1,
   "id": "ccb04b48",
   "metadata": {},
   "outputs": [],
   "source": [
    "import pickle\n",
    "import numpy as np"
   ]
  },
  {
   "cell_type": "code",
   "execution_count": 2,
   "id": "072259d6",
   "metadata": {},
   "outputs": [],
   "source": [
    "with open(\"train_qa.txt\",\"rb\") as f:\n",
    "    train_data = pickle.load(f)"
   ]
  },
  {
   "cell_type": "code",
   "execution_count": 3,
   "id": "6911d43a",
   "metadata": {},
   "outputs": [],
   "source": [
    "with open(\"test_qa.txt\",\"rb\") as f:\n",
    "    test_data = pickle.load(f)"
   ]
  },
  {
   "cell_type": "markdown",
   "id": "190b76a6",
   "metadata": {},
   "source": [
    "## Exploring Data "
   ]
  },
  {
   "cell_type": "code",
   "execution_count": 4,
   "id": "e2bafc20",
   "metadata": {},
   "outputs": [
    {
     "data": {
      "text/plain": [
       "(['Mary',\n",
       "  'moved',\n",
       "  'to',\n",
       "  'the',\n",
       "  'bathroom',\n",
       "  '.',\n",
       "  'Sandra',\n",
       "  'journeyed',\n",
       "  'to',\n",
       "  'the',\n",
       "  'bedroom',\n",
       "  '.'],\n",
       " ['Is', 'Sandra', 'in', 'the', 'hallway', '?'],\n",
       " 'no')"
      ]
     },
     "execution_count": 4,
     "metadata": {},
     "output_type": "execute_result"
    }
   ],
   "source": [
    "train_data[0]"
   ]
  },
  {
   "cell_type": "markdown",
   "id": "a6976227",
   "metadata": {},
   "source": [
    "#### The data is in the format of [Story, Question, Answer]. The answers are binary in the form of yes/no"
   ]
  },
  {
   "cell_type": "code",
   "execution_count": 5,
   "id": "650716e6",
   "metadata": {},
   "outputs": [
    {
     "name": "stdout",
     "output_type": "stream",
     "text": [
      "Story: Mary moved to the bathroom . Sandra journeyed to the bedroom . \n",
      "Question: Is Sandra in the hallway ? \n",
      "Answer: no\n"
     ]
    }
   ],
   "source": [
    "print(f\"Story: {' '.join(train_data[0][0])} \\nQuestion: {' '.join(train_data[0][1])} \\nAnswer: {train_data[0][2]}\")"
   ]
  },
  {
   "cell_type": "markdown",
   "id": "b6ae86f7",
   "metadata": {},
   "source": [
    "## Setting up vocabulary of all words"
   ]
  },
  {
   "cell_type": "code",
   "execution_count": 6,
   "id": "0037a5a3",
   "metadata": {},
   "outputs": [],
   "source": [
    "vocab = set()"
   ]
  },
  {
   "cell_type": "code",
   "execution_count": 7,
   "id": "b72e1e3a",
   "metadata": {},
   "outputs": [],
   "source": [
    "all_data = train_data+test_data"
   ]
  },
  {
   "cell_type": "code",
   "execution_count": 8,
   "id": "76dfce85",
   "metadata": {},
   "outputs": [],
   "source": [
    "for story,question,answer in all_data:\n",
    "    vocab = vocab.union(set(story))\n",
    "    vocab = vocab.union(set(question))"
   ]
  },
  {
   "cell_type": "code",
   "execution_count": 9,
   "id": "773e2a16",
   "metadata": {},
   "outputs": [],
   "source": [
    "vocab.add('yes')\n",
    "vocab.add('no')"
   ]
  },
  {
   "cell_type": "code",
   "execution_count": 10,
   "id": "75f15fff",
   "metadata": {},
   "outputs": [],
   "source": [
    "len_vocab = len(vocab)+1 #we add an extra space to hold a 0 for Keras's pad_sequences"
   ]
  },
  {
   "cell_type": "code",
   "execution_count": 11,
   "id": "e6a177e4",
   "metadata": {},
   "outputs": [
    {
     "data": {
      "text/plain": [
       "156"
      ]
     },
     "execution_count": 11,
     "metadata": {},
     "output_type": "execute_result"
    }
   ],
   "source": [
    "max_story_len = max(len(data[0]) for data in all_data)\n",
    "max_story_len"
   ]
  },
  {
   "cell_type": "code",
   "execution_count": 12,
   "id": "b43452a8",
   "metadata": {},
   "outputs": [
    {
     "data": {
      "text/plain": [
       "6"
      ]
     },
     "execution_count": 12,
     "metadata": {},
     "output_type": "execute_result"
    }
   ],
   "source": [
    "max_q_len = max(len(data[1]) for data in all_data)\n",
    "max_q_len"
   ]
  },
  {
   "cell_type": "markdown",
   "id": "3f50fe77",
   "metadata": {},
   "source": [
    "## Vectorizing the data"
   ]
  },
  {
   "cell_type": "code",
   "execution_count": 13,
   "id": "6861dd0a",
   "metadata": {},
   "outputs": [],
   "source": [
    "from keras_preprocessing.sequence import pad_sequences\n",
    "from keras.preprocessing.text import Tokenizer"
   ]
  },
  {
   "cell_type": "code",
   "execution_count": 14,
   "id": "8a5674d2",
   "metadata": {},
   "outputs": [],
   "source": [
    "tokenizer = Tokenizer(filters=[])\n",
    "tokenizer.fit_on_texts(vocab)"
   ]
  },
  {
   "cell_type": "code",
   "execution_count": 15,
   "id": "96675344",
   "metadata": {},
   "outputs": [
    {
     "data": {
      "text/plain": [
       "{'hallway': 1,\n",
       " 'the': 2,\n",
       " 'kitchen': 3,\n",
       " 'got': 4,\n",
       " 'there': 5,\n",
       " '?': 6,\n",
       " 'down': 7,\n",
       " 'to': 8,\n",
       " 'yes': 9,\n",
       " 'garden': 10,\n",
       " 'moved': 11,\n",
       " 'bedroom': 12,\n",
       " 'discarded': 13,\n",
       " 'back': 14,\n",
       " 'bathroom': 15,\n",
       " 'no': 16,\n",
       " 'took': 17,\n",
       " 'grabbed': 18,\n",
       " 'journeyed': 19,\n",
       " 'travelled': 20,\n",
       " 'dropped': 21,\n",
       " 'in': 22,\n",
       " 'football': 23,\n",
       " 'apple': 24,\n",
       " '.': 25,\n",
       " 'picked': 26,\n",
       " 'mary': 27,\n",
       " 'is': 28,\n",
       " 'john': 29,\n",
       " 'milk': 30,\n",
       " 'left': 31,\n",
       " 'sandra': 32,\n",
       " 'up': 33,\n",
       " 'office': 34,\n",
       " 'put': 35,\n",
       " 'daniel': 36,\n",
       " 'went': 37}"
      ]
     },
     "execution_count": 15,
     "metadata": {},
     "output_type": "execute_result"
    }
   ],
   "source": [
    "tokenizer.word_index"
   ]
  },
  {
   "cell_type": "code",
   "execution_count": 16,
   "id": "9336374d",
   "metadata": {},
   "outputs": [],
   "source": [
    "train_story_text = []\n",
    "train_question_text = []\n",
    "train_answers = []\n",
    "\n",
    "for story,question,answer in train_data:\n",
    "    train_story_text.append(story)\n",
    "    train_question_text.append(question)"
   ]
  },
  {
   "cell_type": "code",
   "execution_count": 17,
   "id": "a882a7f6",
   "metadata": {},
   "outputs": [],
   "source": [
    "train_story_seq = tokenizer.texts_to_sequences(train_story_text)"
   ]
  },
  {
   "cell_type": "markdown",
   "id": "4892165b",
   "metadata": {},
   "source": [
    "#### Defining a vectorizer function"
   ]
  },
  {
   "cell_type": "code",
   "execution_count": 18,
   "id": "f5bde300",
   "metadata": {},
   "outputs": [],
   "source": [
    "def vectorize_stories(data, word_index=tokenizer.word_index, max_story_len=max_story_len,max_question_len=max_q_len):\n",
    "\n",
    "    # X = STORIES\n",
    "    X = []\n",
    "    # Xq = QUERY/QUESTION\n",
    "    Xq = []\n",
    "    # Y = CORRECT ANSWER\n",
    "    Y = []\n",
    "    \n",
    "    \n",
    "    for story, query, answer in data:\n",
    "        \n",
    "        # Grab the word index for every word in story\n",
    "        x = [word_index[word.lower()] for word in story]\n",
    "        # Grab the word index for every word in query\n",
    "        xq = [word_index[word.lower()] for word in query]\n",
    "        \n",
    "        # Grab the Answers (either Yes/No so we don't need to use list comprehension here)\n",
    "        # Index 0 is reserved so we're going to use + 1\n",
    "        y = np.zeros(len(word_index) + 1)\n",
    "        \n",
    "        # Now that y is all zeros and we know its just Yes/No , we can use numpy logic to create this assignment\n",
    "        #\n",
    "        y[word_index[answer]] = 1\n",
    "        \n",
    "        # Append each set of story,query, and answer to their respective holding lists\n",
    "        X.append(x)\n",
    "        Xq.append(xq)\n",
    "        Y.append(y)\n",
    "        \n",
    "    # Finally, pad the sequences based on their max length so the RNN can be trained on uniformly long sequences.\n",
    "        \n",
    "    # RETURN TUPLE FOR UNPACKING\n",
    "    return (pad_sequences(X, maxlen=max_story_len),pad_sequences(Xq, maxlen=max_question_len), np.array(Y))"
   ]
  },
  {
   "cell_type": "code",
   "execution_count": 19,
   "id": "345a57e6",
   "metadata": {},
   "outputs": [],
   "source": [
    "inputs_train, queries_train, answers_train = vectorize_stories(train_data)"
   ]
  },
  {
   "cell_type": "code",
   "execution_count": 20,
   "id": "228f1e90",
   "metadata": {},
   "outputs": [],
   "source": [
    "inputs_test, queries_test, answers_test = vectorize_stories(test_data)"
   ]
  },
  {
   "cell_type": "code",
   "execution_count": 21,
   "id": "7bb4afcc",
   "metadata": {},
   "outputs": [
    {
     "data": {
      "text/plain": [
       "array([[ 0,  0,  0, ...,  2, 12, 25],\n",
       "       [ 0,  0,  0, ...,  2, 10, 25],\n",
       "       [ 0,  0,  0, ...,  2, 10, 25],\n",
       "       ...,\n",
       "       [ 0,  0,  0, ...,  2, 24, 25],\n",
       "       [ 0,  0,  0, ...,  2, 10, 25],\n",
       "       [ 0,  0,  0, ..., 24,  5, 25]])"
      ]
     },
     "execution_count": 21,
     "metadata": {},
     "output_type": "execute_result"
    }
   ],
   "source": [
    "inputs_test"
   ]
  },
  {
   "cell_type": "code",
   "execution_count": 22,
   "id": "6ce3efaa",
   "metadata": {},
   "outputs": [
    {
     "data": {
      "text/plain": [
       "array([[28, 29, 22,  2,  3,  6],\n",
       "       [28, 29, 22,  2,  3,  6],\n",
       "       [28, 29, 22,  2, 10,  6],\n",
       "       ...,\n",
       "       [28, 27, 22,  2, 12,  6],\n",
       "       [28, 32, 22,  2, 10,  6],\n",
       "       [28, 27, 22,  2, 10,  6]])"
      ]
     },
     "execution_count": 22,
     "metadata": {},
     "output_type": "execute_result"
    }
   ],
   "source": [
    "queries_test"
   ]
  },
  {
   "cell_type": "code",
   "execution_count": 23,
   "id": "c1cb509e",
   "metadata": {},
   "outputs": [
    {
     "data": {
      "text/plain": [
       "array([[0., 0., 0., ..., 0., 0., 0.],\n",
       "       [0., 0., 0., ..., 0., 0., 0.],\n",
       "       [0., 0., 0., ..., 0., 0., 0.],\n",
       "       ...,\n",
       "       [0., 0., 0., ..., 0., 0., 0.],\n",
       "       [0., 0., 0., ..., 0., 0., 0.],\n",
       "       [0., 0., 0., ..., 0., 0., 0.]])"
      ]
     },
     "execution_count": 23,
     "metadata": {},
     "output_type": "execute_result"
    }
   ],
   "source": [
    "answers_test"
   ]
  },
  {
   "cell_type": "code",
   "execution_count": 24,
   "id": "f1f006b0",
   "metadata": {},
   "outputs": [
    {
     "data": {
      "text/plain": [
       "array([  0.,   0.,   0.,   0.,   0.,   0.,   0.,   0.,   0., 497.,   0.,\n",
       "         0.,   0.,   0.,   0.,   0., 503.,   0.,   0.,   0.,   0.,   0.,\n",
       "         0.,   0.,   0.,   0.,   0.,   0.,   0.,   0.,   0.,   0.,   0.,\n",
       "         0.,   0.,   0.,   0.,   0.])"
      ]
     },
     "execution_count": 24,
     "metadata": {},
     "output_type": "execute_result"
    }
   ],
   "source": [
    "sum(answers_test)"
   ]
  },
  {
   "cell_type": "code",
   "execution_count": 25,
   "id": "02938034",
   "metadata": {},
   "outputs": [
    {
     "data": {
      "text/plain": [
       "9"
      ]
     },
     "execution_count": 25,
     "metadata": {},
     "output_type": "execute_result"
    }
   ],
   "source": [
    "tokenizer.word_index['yes']"
   ]
  },
  {
   "cell_type": "code",
   "execution_count": 26,
   "id": "19b127c5",
   "metadata": {},
   "outputs": [
    {
     "data": {
      "text/plain": [
       "16"
      ]
     },
     "execution_count": 26,
     "metadata": {},
     "output_type": "execute_result"
    }
   ],
   "source": [
    "tokenizer.word_index['no']"
   ]
  },
  {
   "cell_type": "markdown",
   "id": "1c09257a",
   "metadata": {},
   "source": [
    "## Building the model"
   ]
  },
  {
   "cell_type": "code",
   "execution_count": 34,
   "id": "46d6b1af",
   "metadata": {},
   "outputs": [],
   "source": [
    "from keras.models import Sequential, Model\n",
    "from keras.layers import Embedding\n",
    "from keras.layers import Input, Dense,Activation, Permute, Dropout\n",
    "from keras.layers import dot,add, concatenate\n",
    "from keras.layers import LSTM"
   ]
  },
  {
   "cell_type": "markdown",
   "id": "4443671e",
   "metadata": {},
   "source": [
    "### Placeholders for Inputs\n",
    "\n",
    "Recall we technically have two inputs, stories and questions. So we need to use placeholders. `Input()` is used to instantiate a Keras tensor.\n"
   ]
  },
  {
   "cell_type": "code",
   "execution_count": 36,
   "id": "335ba3ed",
   "metadata": {},
   "outputs": [],
   "source": [
    "input_sequence = Input((max_story_len,))\n",
    "question = Input((max_q_len,))"
   ]
  },
  {
   "cell_type": "markdown",
   "id": "b5691dfd",
   "metadata": {},
   "source": [
    "### Building Encoders"
   ]
  },
  {
   "cell_type": "code",
   "execution_count": 38,
   "id": "e801c71b",
   "metadata": {},
   "outputs": [],
   "source": [
    "# Input Encoder M\n",
    "input_encoder_m = Sequential()\n",
    "input_encoder_m.add(Embedding(input_dim=len_vocab,output_dim=64))\n",
    "input_encoder_m.add(Dropout(0.3))\n",
    "\n",
    "#output\n",
    "# (samples, story_maxlen, embedding_dim)"
   ]
  },
  {
   "cell_type": "code",
   "execution_count": 39,
   "id": "6e8f1bd4",
   "metadata": {},
   "outputs": [],
   "source": [
    "# Input encoder C\n",
    "input_encoder_c = Sequential()\n",
    "input_encoder_c.add(Embedding(input_dim=len_vocab, output_dim=max_q_len))\n",
    "input_encoder_c.add(Dropout(0.3))\n",
    "\n",
    "#output\n",
    "#(samples, story_maxlen, query_maxlen)"
   ]
  },
  {
   "cell_type": "code",
   "execution_count": 40,
   "id": "f540716c",
   "metadata": {},
   "outputs": [],
   "source": [
    "# Question embedding in a sequence of vector\n",
    "question_encoder = Sequential()\n",
    "question_encoder.add(Embedding(input_dim=len_vocab, output_dim=64,input_length=max_q_len))\n",
    "question_encoder.add(Dropout(0.3))\n",
    "\n",
    "# output: (samples, query_maxlen, embedding_dim)"
   ]
  },
  {
   "cell_type": "markdown",
   "id": "132a64fc",
   "metadata": {},
   "source": [
    "### Encode the sequence"
   ]
  },
  {
   "cell_type": "code",
   "execution_count": 41,
   "id": "024d2a43",
   "metadata": {},
   "outputs": [],
   "source": [
    "# encode input sequence and questions (which are indices)\n",
    "# to sequences of dense vectors\n",
    "input_encoded_m = input_encoder_m(input_sequence)\n",
    "input_encoded_c = input_encoder_c(input_sequence)\n",
    "question_encoded = question_encoder(question)"
   ]
  },
  {
   "cell_type": "markdown",
   "id": "116d2e48",
   "metadata": {},
   "source": [
    "##### Use dot product to compute the match between first input vector seq and the query"
   ]
  },
  {
   "cell_type": "code",
   "execution_count": 42,
   "id": "cc8849e0",
   "metadata": {},
   "outputs": [],
   "source": [
    "# shape: `(samples, story_maxlen, query_maxlen)`\n",
    "match = dot([input_encoded_m, question_encoded], axes=(2, 2))\n",
    "match = Activation('softmax')(match)"
   ]
  },
  {
   "cell_type": "markdown",
   "id": "3b07de29",
   "metadata": {},
   "source": [
    "##### Add this match matrix with the second input vector sequence"
   ]
  },
  {
   "cell_type": "code",
   "execution_count": 43,
   "id": "0bbe7ee8",
   "metadata": {},
   "outputs": [],
   "source": [
    "# add the match matrix with the second input vector sequence\n",
    "response = add([match, input_encoded_c])  # (samples, story_maxlen, query_maxlen)\n",
    "response = Permute((2, 1))(response)  # (samples, query_maxlen, story_maxlen)"
   ]
  },
  {
   "cell_type": "code",
   "execution_count": 44,
   "id": "9d931aab",
   "metadata": {},
   "outputs": [],
   "source": [
    "# concatenate the match matrix with the question vector sequence\n",
    "answer = concatenate([response, question_encoded])"
   ]
  },
  {
   "cell_type": "code",
   "execution_count": 45,
   "id": "83f99d7f",
   "metadata": {},
   "outputs": [
    {
     "data": {
      "text/plain": [
       "<KerasTensor: shape=(None, 6, 220) dtype=float32 (created by layer 'concatenate')>"
      ]
     },
     "execution_count": 45,
     "metadata": {},
     "output_type": "execute_result"
    }
   ],
   "source": [
    "answer"
   ]
  },
  {
   "cell_type": "code",
   "execution_count": 46,
   "id": "80407d16",
   "metadata": {},
   "outputs": [],
   "source": [
    "# Reduce with RNN (LSTM)\n",
    "answer = LSTM(32)(answer)  # (samples, 32)"
   ]
  },
  {
   "cell_type": "code",
   "execution_count": 48,
   "id": "48a0938e",
   "metadata": {},
   "outputs": [],
   "source": [
    "# Regularization with Dropout\n",
    "answer = Dropout(0.5)(answer)\n",
    "answer = Dense(len_vocab)(answer)  # (samples, vocab_size)"
   ]
  },
  {
   "cell_type": "code",
   "execution_count": 49,
   "id": "55ecc04b",
   "metadata": {},
   "outputs": [],
   "source": [
    "# we output a probability distribution over the vocabulary\n",
    "answer = Activation('softmax')(answer)\n",
    "\n",
    "# build the final model\n",
    "model = Model([input_sequence, question], answer)\n",
    "model.compile(optimizer='rmsprop', loss='categorical_crossentropy',\n",
    "              metrics=['accuracy'])"
   ]
  },
  {
   "cell_type": "code",
   "execution_count": 50,
   "id": "abf60ab2",
   "metadata": {},
   "outputs": [
    {
     "name": "stdout",
     "output_type": "stream",
     "text": [
      "Model: \"model\"\n",
      "__________________________________________________________________________________________________\n",
      " Layer (type)                   Output Shape         Param #     Connected to                     \n",
      "==================================================================================================\n",
      " input_2 (InputLayer)           [(None, 156)]        0           []                               \n",
      "                                                                                                  \n",
      " input_3 (InputLayer)           [(None, 6)]          0           []                               \n",
      "                                                                                                  \n",
      " sequential_1 (Sequential)      (None, None, 64)     2432        ['input_2[0][0]']                \n",
      "                                                                                                  \n",
      " sequential_3 (Sequential)      (None, 6, 64)        2432        ['input_3[0][0]']                \n",
      "                                                                                                  \n",
      " dot (Dot)                      (None, 156, 6)       0           ['sequential_1[0][0]',           \n",
      "                                                                  'sequential_3[0][0]']           \n",
      "                                                                                                  \n",
      " activation (Activation)        (None, 156, 6)       0           ['dot[0][0]']                    \n",
      "                                                                                                  \n",
      " sequential_2 (Sequential)      (None, None, 6)      228         ['input_2[0][0]']                \n",
      "                                                                                                  \n",
      " add (Add)                      (None, 156, 6)       0           ['activation[0][0]',             \n",
      "                                                                  'sequential_2[0][0]']           \n",
      "                                                                                                  \n",
      " permute (Permute)              (None, 6, 156)       0           ['add[0][0]']                    \n",
      "                                                                                                  \n",
      " concatenate (Concatenate)      (None, 6, 220)       0           ['permute[0][0]',                \n",
      "                                                                  'sequential_3[0][0]']           \n",
      "                                                                                                  \n",
      " lstm (LSTM)                    (None, 32)           32384       ['concatenate[0][0]']            \n",
      "                                                                                                  \n",
      " dropout_3 (Dropout)            (None, 32)           0           ['lstm[0][0]']                   \n",
      "                                                                                                  \n",
      " dropout_4 (Dropout)            (None, 32)           0           ['dropout_3[0][0]']              \n",
      "                                                                                                  \n",
      " dense (Dense)                  (None, 38)           1254        ['dropout_4[0][0]']              \n",
      "                                                                                                  \n",
      " activation_1 (Activation)      (None, 38)           0           ['dense[0][0]']                  \n",
      "                                                                                                  \n",
      "==================================================================================================\n",
      "Total params: 38,730\n",
      "Trainable params: 38,730\n",
      "Non-trainable params: 0\n",
      "__________________________________________________________________________________________________\n"
     ]
    }
   ],
   "source": [
    "model.summary()"
   ]
  },
  {
   "cell_type": "markdown",
   "id": "2d08e33c",
   "metadata": {},
   "source": [
    "### Training the model"
   ]
  },
  {
   "cell_type": "code",
   "execution_count": 51,
   "id": "5f4d95b7",
   "metadata": {},
   "outputs": [
    {
     "name": "stdout",
     "output_type": "stream",
     "text": [
      "Epoch 1/150\n",
      "313/313 [==============================] - 14s 23ms/step - loss: 1.0903 - accuracy: 0.4809 - val_loss: 0.7002 - val_accuracy: 0.4970\n",
      "Epoch 2/150\n",
      "313/313 [==============================] - 6s 20ms/step - loss: 0.7243 - accuracy: 0.4965 - val_loss: 0.6941 - val_accuracy: 0.4970\n",
      "Epoch 3/150\n",
      "313/313 [==============================] - 6s 20ms/step - loss: 0.7024 - accuracy: 0.5045 - val_loss: 0.6935 - val_accuracy: 0.4970\n",
      "Epoch 4/150\n",
      "313/313 [==============================] - 6s 20ms/step - loss: 0.6988 - accuracy: 0.4986 - val_loss: 0.6939 - val_accuracy: 0.5030\n",
      "Epoch 5/150\n",
      "313/313 [==============================] - 6s 19ms/step - loss: 0.6986 - accuracy: 0.4968 - val_loss: 0.6944 - val_accuracy: 0.5030\n",
      "Epoch 6/150\n",
      "313/313 [==============================] - 6s 19ms/step - loss: 0.6983 - accuracy: 0.4977 - val_loss: 0.6942 - val_accuracy: 0.5030\n",
      "Epoch 7/150\n",
      "313/313 [==============================] - 6s 20ms/step - loss: 0.6973 - accuracy: 0.5026 - val_loss: 0.6932 - val_accuracy: 0.5030\n",
      "Epoch 8/150\n",
      "313/313 [==============================] - 6s 19ms/step - loss: 0.6975 - accuracy: 0.4998 - val_loss: 0.6933 - val_accuracy: 0.4970\n",
      "Epoch 9/150\n",
      "313/313 [==============================] - 6s 21ms/step - loss: 0.6968 - accuracy: 0.4964 - val_loss: 0.6932 - val_accuracy: 0.5030\n",
      "Epoch 10/150\n",
      "313/313 [==============================] - 6s 19ms/step - loss: 0.6964 - accuracy: 0.4986 - val_loss: 0.6939 - val_accuracy: 0.5030\n",
      "Epoch 11/150\n",
      "313/313 [==============================] - 6s 20ms/step - loss: 0.6970 - accuracy: 0.5005 - val_loss: 0.6937 - val_accuracy: 0.5030\n",
      "Epoch 12/150\n",
      "313/313 [==============================] - 6s 19ms/step - loss: 0.6961 - accuracy: 0.5063 - val_loss: 0.6942 - val_accuracy: 0.5030\n",
      "Epoch 13/150\n",
      "313/313 [==============================] - 6s 20ms/step - loss: 0.6964 - accuracy: 0.4983 - val_loss: 0.6934 - val_accuracy: 0.5030\n",
      "Epoch 14/150\n",
      "313/313 [==============================] - 6s 20ms/step - loss: 0.6964 - accuracy: 0.4974 - val_loss: 0.6931 - val_accuracy: 0.5030\n",
      "Epoch 15/150\n",
      "313/313 [==============================] - 6s 19ms/step - loss: 0.6959 - accuracy: 0.5026 - val_loss: 0.6932 - val_accuracy: 0.5030\n",
      "Epoch 16/150\n",
      "313/313 [==============================] - 6s 19ms/step - loss: 0.6955 - accuracy: 0.5072 - val_loss: 0.6934 - val_accuracy: 0.5030\n",
      "Epoch 17/150\n",
      "313/313 [==============================] - 6s 19ms/step - loss: 0.6963 - accuracy: 0.4973 - val_loss: 0.6940 - val_accuracy: 0.4970\n",
      "Epoch 18/150\n",
      "313/313 [==============================] - 6s 19ms/step - loss: 0.6956 - accuracy: 0.4973 - val_loss: 0.6961 - val_accuracy: 0.5030\n",
      "Epoch 19/150\n",
      "313/313 [==============================] - 6s 19ms/step - loss: 0.6968 - accuracy: 0.4922 - val_loss: 0.6944 - val_accuracy: 0.5030\n",
      "Epoch 20/150\n",
      "313/313 [==============================] - 6s 18ms/step - loss: 0.6961 - accuracy: 0.4991 - val_loss: 0.6934 - val_accuracy: 0.5030\n",
      "Epoch 21/150\n",
      "313/313 [==============================] - 5s 17ms/step - loss: 0.6960 - accuracy: 0.4958 - val_loss: 0.6934 - val_accuracy: 0.4970\n",
      "Epoch 22/150\n",
      "313/313 [==============================] - 6s 20ms/step - loss: 0.6959 - accuracy: 0.4968 - val_loss: 0.6932 - val_accuracy: 0.5010\n",
      "Epoch 23/150\n",
      "313/313 [==============================] - 6s 20ms/step - loss: 0.6945 - accuracy: 0.5081 - val_loss: 0.6933 - val_accuracy: 0.5000\n",
      "Epoch 24/150\n",
      "313/313 [==============================] - 6s 18ms/step - loss: 0.6949 - accuracy: 0.5087 - val_loss: 0.6936 - val_accuracy: 0.4970\n",
      "Epoch 25/150\n",
      "313/313 [==============================] - 7s 21ms/step - loss: 0.6950 - accuracy: 0.5075 - val_loss: 0.6933 - val_accuracy: 0.5030\n",
      "Epoch 26/150\n",
      "313/313 [==============================] - 7s 22ms/step - loss: 0.6951 - accuracy: 0.4937 - val_loss: 0.6935 - val_accuracy: 0.5030\n",
      "Epoch 27/150\n",
      "313/313 [==============================] - 6s 20ms/step - loss: 0.6953 - accuracy: 0.4940 - val_loss: 0.6943 - val_accuracy: 0.4970\n",
      "Epoch 28/150\n",
      "313/313 [==============================] - 6s 20ms/step - loss: 0.6937 - accuracy: 0.5139 - val_loss: 0.6938 - val_accuracy: 0.5030\n",
      "Epoch 29/150\n",
      "313/313 [==============================] - 6s 19ms/step - loss: 0.6952 - accuracy: 0.5019 - val_loss: 0.6935 - val_accuracy: 0.4990\n",
      "Epoch 30/150\n",
      "313/313 [==============================] - 6s 20ms/step - loss: 0.6949 - accuracy: 0.4945 - val_loss: 0.6932 - val_accuracy: 0.4780\n",
      "Epoch 31/150\n",
      "313/313 [==============================] - 7s 22ms/step - loss: 0.6936 - accuracy: 0.5074 - val_loss: 0.6928 - val_accuracy: 0.5240\n",
      "Epoch 32/150\n",
      "313/313 [==============================] - 7s 23ms/step - loss: 0.6887 - accuracy: 0.5302 - val_loss: 0.6824 - val_accuracy: 0.5440\n",
      "Epoch 33/150\n",
      "313/313 [==============================] - 7s 21ms/step - loss: 0.6551 - accuracy: 0.6154 - val_loss: 0.5953 - val_accuracy: 0.7220\n",
      "Epoch 34/150\n",
      "313/313 [==============================] - 7s 24ms/step - loss: 0.5545 - accuracy: 0.7343 - val_loss: 0.4515 - val_accuracy: 0.8230\n",
      "Epoch 35/150\n",
      "313/313 [==============================] - 6s 19ms/step - loss: 0.4802 - accuracy: 0.7957 - val_loss: 0.4104 - val_accuracy: 0.8310\n",
      "Epoch 36/150\n",
      "313/313 [==============================] - 6s 19ms/step - loss: 0.4429 - accuracy: 0.8207 - val_loss: 0.3961 - val_accuracy: 0.8240\n",
      "Epoch 37/150\n",
      "313/313 [==============================] - 6s 19ms/step - loss: 0.4193 - accuracy: 0.8311 - val_loss: 0.3840 - val_accuracy: 0.8320\n",
      "Epoch 38/150\n",
      "313/313 [==============================] - 6s 19ms/step - loss: 0.4057 - accuracy: 0.8361 - val_loss: 0.3746 - val_accuracy: 0.8340\n",
      "Epoch 39/150\n",
      "313/313 [==============================] - 6s 19ms/step - loss: 0.3897 - accuracy: 0.8443 - val_loss: 0.3860 - val_accuracy: 0.8230\n",
      "Epoch 40/150\n",
      "313/313 [==============================] - 6s 18ms/step - loss: 0.3764 - accuracy: 0.8506 - val_loss: 0.3582 - val_accuracy: 0.8370\n",
      "Epoch 41/150\n",
      "313/313 [==============================] - 6s 18ms/step - loss: 0.3676 - accuracy: 0.8522 - val_loss: 0.3618 - val_accuracy: 0.8400\n",
      "Epoch 42/150\n",
      "313/313 [==============================] - 6s 20ms/step - loss: 0.3611 - accuracy: 0.8544 - val_loss: 0.3812 - val_accuracy: 0.8410\n",
      "Epoch 43/150\n",
      "313/313 [==============================] - 6s 20ms/step - loss: 0.3527 - accuracy: 0.8547 - val_loss: 0.3473 - val_accuracy: 0.8360\n",
      "Epoch 44/150\n",
      "313/313 [==============================] - 6s 20ms/step - loss: 0.3415 - accuracy: 0.8580 - val_loss: 0.3678 - val_accuracy: 0.8370\n",
      "Epoch 45/150\n",
      "313/313 [==============================] - 6s 20ms/step - loss: 0.3366 - accuracy: 0.8529 - val_loss: 0.3350 - val_accuracy: 0.8460\n",
      "Epoch 46/150\n",
      "313/313 [==============================] - 6s 20ms/step - loss: 0.3323 - accuracy: 0.8583 - val_loss: 0.3443 - val_accuracy: 0.8380\n",
      "Epoch 47/150\n",
      "313/313 [==============================] - 6s 19ms/step - loss: 0.3318 - accuracy: 0.8625 - val_loss: 0.3342 - val_accuracy: 0.8430\n",
      "Epoch 48/150\n",
      "313/313 [==============================] - 6s 20ms/step - loss: 0.3298 - accuracy: 0.8608 - val_loss: 0.3431 - val_accuracy: 0.8380\n",
      "Epoch 49/150\n",
      "313/313 [==============================] - 6s 19ms/step - loss: 0.3232 - accuracy: 0.8625 - val_loss: 0.3558 - val_accuracy: 0.8350\n",
      "Epoch 50/150\n",
      "313/313 [==============================] - 6s 20ms/step - loss: 0.3243 - accuracy: 0.8604 - val_loss: 0.3362 - val_accuracy: 0.8350\n",
      "Epoch 51/150\n",
      "313/313 [==============================] - 6s 20ms/step - loss: 0.3163 - accuracy: 0.8617 - val_loss: 0.3414 - val_accuracy: 0.8370\n",
      "Epoch 52/150\n",
      "313/313 [==============================] - 6s 20ms/step - loss: 0.3174 - accuracy: 0.8635 - val_loss: 0.3364 - val_accuracy: 0.8410\n",
      "Epoch 53/150\n",
      "313/313 [==============================] - 6s 20ms/step - loss: 0.3224 - accuracy: 0.8618 - val_loss: 0.3361 - val_accuracy: 0.8410\n",
      "Epoch 54/150\n",
      "313/313 [==============================] - 6s 20ms/step - loss: 0.3170 - accuracy: 0.8642 - val_loss: 0.3319 - val_accuracy: 0.8450\n",
      "Epoch 55/150\n",
      "313/313 [==============================] - 6s 21ms/step - loss: 0.3162 - accuracy: 0.8663 - val_loss: 0.3498 - val_accuracy: 0.8430\n",
      "Epoch 56/150\n",
      "313/313 [==============================] - 7s 22ms/step - loss: 0.3115 - accuracy: 0.8658 - val_loss: 0.3453 - val_accuracy: 0.8460\n",
      "Epoch 57/150\n"
     ]
    },
    {
     "name": "stdout",
     "output_type": "stream",
     "text": [
      "313/313 [==============================] - 7s 21ms/step - loss: 0.3114 - accuracy: 0.8627 - val_loss: 0.3429 - val_accuracy: 0.8450\n",
      "Epoch 58/150\n",
      "313/313 [==============================] - 6s 20ms/step - loss: 0.3137 - accuracy: 0.8641 - val_loss: 0.3495 - val_accuracy: 0.8390\n",
      "Epoch 59/150\n",
      "313/313 [==============================] - 7s 21ms/step - loss: 0.3066 - accuracy: 0.8624 - val_loss: 0.3326 - val_accuracy: 0.8460\n",
      "Epoch 60/150\n",
      "313/313 [==============================] - 6s 20ms/step - loss: 0.3056 - accuracy: 0.8661 - val_loss: 0.3362 - val_accuracy: 0.8410\n",
      "Epoch 61/150\n",
      "313/313 [==============================] - 6s 21ms/step - loss: 0.3055 - accuracy: 0.8655 - val_loss: 0.3361 - val_accuracy: 0.8360\n",
      "Epoch 62/150\n",
      "313/313 [==============================] - 6s 20ms/step - loss: 0.3066 - accuracy: 0.8657 - val_loss: 0.3571 - val_accuracy: 0.8350\n",
      "Epoch 63/150\n",
      "313/313 [==============================] - 7s 22ms/step - loss: 0.3050 - accuracy: 0.8637 - val_loss: 0.3314 - val_accuracy: 0.8400\n",
      "Epoch 64/150\n",
      "313/313 [==============================] - 7s 22ms/step - loss: 0.3029 - accuracy: 0.8669 - val_loss: 0.3258 - val_accuracy: 0.8470\n",
      "Epoch 65/150\n",
      "313/313 [==============================] - 6s 21ms/step - loss: 0.3042 - accuracy: 0.8641 - val_loss: 0.3352 - val_accuracy: 0.8420\n",
      "Epoch 66/150\n",
      "313/313 [==============================] - 7s 21ms/step - loss: 0.3014 - accuracy: 0.8693 - val_loss: 0.3380 - val_accuracy: 0.8380\n",
      "Epoch 67/150\n",
      "313/313 [==============================] - 6s 20ms/step - loss: 0.3001 - accuracy: 0.8666 - val_loss: 0.3646 - val_accuracy: 0.8380\n",
      "Epoch 68/150\n",
      "313/313 [==============================] - 6s 19ms/step - loss: 0.3049 - accuracy: 0.8651 - val_loss: 0.3399 - val_accuracy: 0.8400\n",
      "Epoch 69/150\n",
      "313/313 [==============================] - 7s 22ms/step - loss: 0.2952 - accuracy: 0.8686 - val_loss: 0.3485 - val_accuracy: 0.8390\n",
      "Epoch 70/150\n",
      "313/313 [==============================] - 6s 19ms/step - loss: 0.3014 - accuracy: 0.8678 - val_loss: 0.3422 - val_accuracy: 0.8370\n",
      "Epoch 71/150\n",
      "313/313 [==============================] - 6s 19ms/step - loss: 0.3012 - accuracy: 0.8697 - val_loss: 0.3535 - val_accuracy: 0.8340\n",
      "Epoch 72/150\n",
      "313/313 [==============================] - 6s 21ms/step - loss: 0.3010 - accuracy: 0.8669 - val_loss: 0.3423 - val_accuracy: 0.8370\n",
      "Epoch 73/150\n",
      "313/313 [==============================] - 6s 20ms/step - loss: 0.2992 - accuracy: 0.8662 - val_loss: 0.3328 - val_accuracy: 0.8420\n",
      "Epoch 74/150\n",
      "313/313 [==============================] - 6s 19ms/step - loss: 0.2980 - accuracy: 0.8692 - val_loss: 0.3676 - val_accuracy: 0.8420\n",
      "Epoch 75/150\n",
      "313/313 [==============================] - 6s 19ms/step - loss: 0.2926 - accuracy: 0.8719 - val_loss: 0.3409 - val_accuracy: 0.8420\n",
      "Epoch 76/150\n",
      "313/313 [==============================] - 6s 19ms/step - loss: 0.2926 - accuracy: 0.8691 - val_loss: 0.3517 - val_accuracy: 0.8380\n",
      "Epoch 77/150\n",
      "313/313 [==============================] - 6s 19ms/step - loss: 0.2952 - accuracy: 0.8704 - val_loss: 0.3958 - val_accuracy: 0.8350\n",
      "Epoch 78/150\n",
      "313/313 [==============================] - 6s 19ms/step - loss: 0.2935 - accuracy: 0.8723 - val_loss: 0.3579 - val_accuracy: 0.8430\n",
      "Epoch 79/150\n",
      "313/313 [==============================] - 6s 19ms/step - loss: 0.2985 - accuracy: 0.8709 - val_loss: 0.3562 - val_accuracy: 0.8440\n",
      "Epoch 80/150\n",
      "313/313 [==============================] - 6s 20ms/step - loss: 0.2895 - accuracy: 0.8701 - val_loss: 0.3501 - val_accuracy: 0.8360\n",
      "Epoch 81/150\n",
      "313/313 [==============================] - 6s 19ms/step - loss: 0.2937 - accuracy: 0.8744 - val_loss: 0.3505 - val_accuracy: 0.8320\n",
      "Epoch 82/150\n",
      "313/313 [==============================] - 6s 19ms/step - loss: 0.2936 - accuracy: 0.8734 - val_loss: 0.3463 - val_accuracy: 0.8480\n",
      "Epoch 83/150\n",
      "313/313 [==============================] - 6s 19ms/step - loss: 0.2923 - accuracy: 0.8726 - val_loss: 0.3578 - val_accuracy: 0.8370\n",
      "Epoch 84/150\n",
      "313/313 [==============================] - 5s 17ms/step - loss: 0.2861 - accuracy: 0.8745 - val_loss: 0.3628 - val_accuracy: 0.8340\n",
      "Epoch 85/150\n",
      "313/313 [==============================] - 5s 17ms/step - loss: 0.2870 - accuracy: 0.8712 - val_loss: 0.3450 - val_accuracy: 0.8390\n",
      "Epoch 86/150\n",
      "313/313 [==============================] - 6s 19ms/step - loss: 0.2874 - accuracy: 0.8759 - val_loss: 0.3798 - val_accuracy: 0.8340\n",
      "Epoch 87/150\n",
      "313/313 [==============================] - 6s 20ms/step - loss: 0.2869 - accuracy: 0.8749 - val_loss: 0.3631 - val_accuracy: 0.8340\n",
      "Epoch 88/150\n",
      "313/313 [==============================] - 6s 20ms/step - loss: 0.2866 - accuracy: 0.8749 - val_loss: 0.3661 - val_accuracy: 0.8340\n",
      "Epoch 89/150\n",
      "313/313 [==============================] - 6s 19ms/step - loss: 0.2856 - accuracy: 0.8743 - val_loss: 0.3875 - val_accuracy: 0.8310\n",
      "Epoch 90/150\n",
      "313/313 [==============================] - 6s 20ms/step - loss: 0.2808 - accuracy: 0.8759 - val_loss: 0.3570 - val_accuracy: 0.8400\n",
      "Epoch 91/150\n",
      "313/313 [==============================] - 6s 19ms/step - loss: 0.2879 - accuracy: 0.8738 - val_loss: 0.3796 - val_accuracy: 0.8370\n",
      "Epoch 92/150\n",
      "313/313 [==============================] - 6s 19ms/step - loss: 0.2854 - accuracy: 0.8760 - val_loss: 0.3539 - val_accuracy: 0.8380\n",
      "Epoch 93/150\n",
      "313/313 [==============================] - 6s 20ms/step - loss: 0.2847 - accuracy: 0.8780 - val_loss: 0.3556 - val_accuracy: 0.8350\n",
      "Epoch 94/150\n",
      "313/313 [==============================] - 6s 19ms/step - loss: 0.2805 - accuracy: 0.8780 - val_loss: 0.3469 - val_accuracy: 0.8430\n",
      "Epoch 95/150\n",
      "313/313 [==============================] - 6s 18ms/step - loss: 0.2849 - accuracy: 0.8749 - val_loss: 0.3612 - val_accuracy: 0.8310\n",
      "Epoch 96/150\n",
      "313/313 [==============================] - 6s 19ms/step - loss: 0.2830 - accuracy: 0.8761 - val_loss: 0.3714 - val_accuracy: 0.8350\n",
      "Epoch 97/150\n",
      "313/313 [==============================] - 6s 21ms/step - loss: 0.2809 - accuracy: 0.8786 - val_loss: 0.3613 - val_accuracy: 0.8460\n",
      "Epoch 98/150\n",
      "313/313 [==============================] - 6s 20ms/step - loss: 0.2795 - accuracy: 0.8782 - val_loss: 0.3690 - val_accuracy: 0.8390\n",
      "Epoch 99/150\n",
      "313/313 [==============================] - 7s 21ms/step - loss: 0.2760 - accuracy: 0.8830 - val_loss: 0.3804 - val_accuracy: 0.8350\n",
      "Epoch 100/150\n",
      "313/313 [==============================] - 6s 20ms/step - loss: 0.2766 - accuracy: 0.8791 - val_loss: 0.3736 - val_accuracy: 0.8280\n",
      "Epoch 101/150\n",
      "313/313 [==============================] - 6s 21ms/step - loss: 0.2759 - accuracy: 0.8812 - val_loss: 0.3741 - val_accuracy: 0.8420\n",
      "Epoch 102/150\n",
      "313/313 [==============================] - 6s 19ms/step - loss: 0.2792 - accuracy: 0.8787 - val_loss: 0.3810 - val_accuracy: 0.8410\n",
      "Epoch 103/150\n",
      "313/313 [==============================] - 6s 19ms/step - loss: 0.2725 - accuracy: 0.8815 - val_loss: 0.3738 - val_accuracy: 0.8380\n",
      "Epoch 104/150\n",
      "313/313 [==============================] - 6s 19ms/step - loss: 0.2720 - accuracy: 0.8827 - val_loss: 0.3882 - val_accuracy: 0.8370\n",
      "Epoch 105/150\n",
      "313/313 [==============================] - 6s 20ms/step - loss: 0.2719 - accuracy: 0.8814 - val_loss: 0.3982 - val_accuracy: 0.8410\n",
      "Epoch 106/150\n",
      "313/313 [==============================] - 6s 20ms/step - loss: 0.2744 - accuracy: 0.8803 - val_loss: 0.3903 - val_accuracy: 0.8280\n",
      "Epoch 107/150\n",
      "313/313 [==============================] - 6s 19ms/step - loss: 0.2765 - accuracy: 0.8820 - val_loss: 0.4032 - val_accuracy: 0.8290\n",
      "Epoch 108/150\n",
      "313/313 [==============================] - 6s 20ms/step - loss: 0.2755 - accuracy: 0.8845 - val_loss: 0.3891 - val_accuracy: 0.8330\n",
      "Epoch 109/150\n",
      "313/313 [==============================] - 6s 20ms/step - loss: 0.2687 - accuracy: 0.8834 - val_loss: 0.3640 - val_accuracy: 0.8350\n",
      "Epoch 110/150\n",
      "313/313 [==============================] - 6s 19ms/step - loss: 0.2703 - accuracy: 0.8834 - val_loss: 0.3769 - val_accuracy: 0.8340\n",
      "Epoch 111/150\n",
      "313/313 [==============================] - 6s 20ms/step - loss: 0.2687 - accuracy: 0.8856 - val_loss: 0.3791 - val_accuracy: 0.8390\n",
      "Epoch 112/150\n",
      "313/313 [==============================] - 6s 19ms/step - loss: 0.2710 - accuracy: 0.8786 - val_loss: 0.3630 - val_accuracy: 0.8330\n",
      "Epoch 113/150\n"
     ]
    },
    {
     "name": "stdout",
     "output_type": "stream",
     "text": [
      "313/313 [==============================] - 6s 19ms/step - loss: 0.2634 - accuracy: 0.8861 - val_loss: 0.4022 - val_accuracy: 0.8340\n",
      "Epoch 114/150\n",
      "313/313 [==============================] - 6s 19ms/step - loss: 0.2618 - accuracy: 0.8891 - val_loss: 0.3856 - val_accuracy: 0.8390\n",
      "Epoch 115/150\n",
      "313/313 [==============================] - 6s 19ms/step - loss: 0.2655 - accuracy: 0.8840 - val_loss: 0.3908 - val_accuracy: 0.8370\n",
      "Epoch 116/150\n",
      "313/313 [==============================] - 6s 19ms/step - loss: 0.2702 - accuracy: 0.8847 - val_loss: 0.3869 - val_accuracy: 0.8350\n",
      "Epoch 117/150\n",
      "313/313 [==============================] - 6s 20ms/step - loss: 0.2627 - accuracy: 0.8854 - val_loss: 0.4062 - val_accuracy: 0.8360\n",
      "Epoch 118/150\n",
      "313/313 [==============================] - 6s 20ms/step - loss: 0.2667 - accuracy: 0.8846 - val_loss: 0.3907 - val_accuracy: 0.8350\n",
      "Epoch 119/150\n",
      "313/313 [==============================] - 6s 19ms/step - loss: 0.2575 - accuracy: 0.8897 - val_loss: 0.4153 - val_accuracy: 0.8330\n",
      "Epoch 120/150\n",
      "313/313 [==============================] - 6s 19ms/step - loss: 0.2646 - accuracy: 0.8885 - val_loss: 0.4309 - val_accuracy: 0.8350\n",
      "Epoch 121/150\n",
      "313/313 [==============================] - 6s 19ms/step - loss: 0.2597 - accuracy: 0.8873 - val_loss: 0.4213 - val_accuracy: 0.8310\n",
      "Epoch 122/150\n",
      "313/313 [==============================] - 6s 19ms/step - loss: 0.2640 - accuracy: 0.8850 - val_loss: 0.3861 - val_accuracy: 0.8370\n",
      "Epoch 123/150\n",
      "313/313 [==============================] - 6s 19ms/step - loss: 0.2625 - accuracy: 0.8893 - val_loss: 0.3834 - val_accuracy: 0.8350\n",
      "Epoch 124/150\n",
      "313/313 [==============================] - 6s 19ms/step - loss: 0.2580 - accuracy: 0.8882 - val_loss: 0.4106 - val_accuracy: 0.8300\n",
      "Epoch 125/150\n",
      "313/313 [==============================] - 6s 19ms/step - loss: 0.2568 - accuracy: 0.8895 - val_loss: 0.4349 - val_accuracy: 0.8360\n",
      "Epoch 126/150\n",
      "313/313 [==============================] - 6s 19ms/step - loss: 0.2572 - accuracy: 0.8907 - val_loss: 0.4228 - val_accuracy: 0.8330\n",
      "Epoch 127/150\n",
      "313/313 [==============================] - 6s 21ms/step - loss: 0.2546 - accuracy: 0.8902 - val_loss: 0.4442 - val_accuracy: 0.8280\n",
      "Epoch 128/150\n",
      "313/313 [==============================] - 6s 20ms/step - loss: 0.2576 - accuracy: 0.8900 - val_loss: 0.4440 - val_accuracy: 0.8230\n",
      "Epoch 129/150\n",
      "313/313 [==============================] - 6s 20ms/step - loss: 0.2563 - accuracy: 0.8900 - val_loss: 0.4146 - val_accuracy: 0.8330\n",
      "Epoch 130/150\n",
      "313/313 [==============================] - 6s 20ms/step - loss: 0.2536 - accuracy: 0.8939 - val_loss: 0.4165 - val_accuracy: 0.8340\n",
      "Epoch 131/150\n",
      "313/313 [==============================] - 6s 21ms/step - loss: 0.2599 - accuracy: 0.8917 - val_loss: 0.4303 - val_accuracy: 0.8370\n",
      "Epoch 132/150\n",
      "313/313 [==============================] - 6s 20ms/step - loss: 0.2554 - accuracy: 0.8922 - val_loss: 0.4160 - val_accuracy: 0.8260\n",
      "Epoch 133/150\n",
      "313/313 [==============================] - 7s 21ms/step - loss: 0.2557 - accuracy: 0.8970 - val_loss: 0.4269 - val_accuracy: 0.8300\n",
      "Epoch 134/150\n",
      "313/313 [==============================] - 6s 20ms/step - loss: 0.2572 - accuracy: 0.8942 - val_loss: 0.4034 - val_accuracy: 0.8310\n",
      "Epoch 135/150\n",
      "313/313 [==============================] - 6s 20ms/step - loss: 0.2598 - accuracy: 0.8905 - val_loss: 0.4264 - val_accuracy: 0.8340\n",
      "Epoch 136/150\n",
      "313/313 [==============================] - 6s 19ms/step - loss: 0.2561 - accuracy: 0.8926 - val_loss: 0.4338 - val_accuracy: 0.8340\n",
      "Epoch 137/150\n",
      "313/313 [==============================] - 6s 19ms/step - loss: 0.2569 - accuracy: 0.8921 - val_loss: 0.4370 - val_accuracy: 0.8350\n",
      "Epoch 138/150\n",
      "313/313 [==============================] - 6s 20ms/step - loss: 0.2490 - accuracy: 0.8958 - val_loss: 0.4123 - val_accuracy: 0.8320\n",
      "Epoch 139/150\n",
      "313/313 [==============================] - 6s 21ms/step - loss: 0.2547 - accuracy: 0.8931 - val_loss: 0.4577 - val_accuracy: 0.8380\n",
      "Epoch 140/150\n",
      "313/313 [==============================] - 6s 18ms/step - loss: 0.2543 - accuracy: 0.8923 - val_loss: 0.4578 - val_accuracy: 0.8320\n",
      "Epoch 141/150\n",
      "313/313 [==============================] - 6s 18ms/step - loss: 0.2509 - accuracy: 0.8987 - val_loss: 0.4578 - val_accuracy: 0.8300\n",
      "Epoch 142/150\n",
      "313/313 [==============================] - 6s 18ms/step - loss: 0.2449 - accuracy: 0.8967 - val_loss: 0.4278 - val_accuracy: 0.8310\n",
      "Epoch 143/150\n",
      "313/313 [==============================] - 6s 19ms/step - loss: 0.2468 - accuracy: 0.8950 - val_loss: 0.4520 - val_accuracy: 0.8310\n",
      "Epoch 144/150\n",
      "313/313 [==============================] - 6s 19ms/step - loss: 0.2441 - accuracy: 0.8988 - val_loss: 0.4806 - val_accuracy: 0.8250\n",
      "Epoch 145/150\n",
      "313/313 [==============================] - 6s 18ms/step - loss: 0.2447 - accuracy: 0.8967 - val_loss: 0.4694 - val_accuracy: 0.8280\n",
      "Epoch 146/150\n",
      "313/313 [==============================] - 6s 19ms/step - loss: 0.2508 - accuracy: 0.8948 - val_loss: 0.4446 - val_accuracy: 0.8230\n",
      "Epoch 147/150\n",
      "313/313 [==============================] - 6s 18ms/step - loss: 0.2475 - accuracy: 0.8958 - val_loss: 0.4250 - val_accuracy: 0.8330\n",
      "Epoch 148/150\n",
      "313/313 [==============================] - 6s 18ms/step - loss: 0.2465 - accuracy: 0.8974 - val_loss: 0.4508 - val_accuracy: 0.8300\n",
      "Epoch 149/150\n",
      "313/313 [==============================] - 6s 20ms/step - loss: 0.2483 - accuracy: 0.8980 - val_loss: 0.4800 - val_accuracy: 0.8170\n",
      "Epoch 150/150\n",
      "313/313 [==============================] - 6s 20ms/step - loss: 0.2530 - accuracy: 0.9001 - val_loss: 0.4554 - val_accuracy: 0.8270\n"
     ]
    }
   ],
   "source": [
    "# train\n",
    "history = model.fit([inputs_train, queries_train], answers_train,batch_size=32,epochs=150,validation_data=([inputs_test, queries_test], answers_test))"
   ]
  },
  {
   "cell_type": "markdown",
   "id": "286c57a1",
   "metadata": {},
   "source": [
    "## Evaluating the model"
   ]
  },
  {
   "cell_type": "markdown",
   "id": "0e3a6da7",
   "metadata": {},
   "source": [
    "### Building accuracy and loss graphs"
   ]
  },
  {
   "cell_type": "code",
   "execution_count": 52,
   "id": "9f6a6938",
   "metadata": {},
   "outputs": [],
   "source": [
    "acc = history.history['accuracy']\n",
    "val_acc = history.history['val_accuracy']\n",
    "\n",
    "loss = history.history['loss']\n",
    "val_loss = history.history['val_loss']"
   ]
  },
  {
   "cell_type": "code",
   "execution_count": 58,
   "id": "05373d89",
   "metadata": {},
   "outputs": [
    {
     "data": {
      "image/png": "[encoded data removed]",
      "text/plain": [
       "<Figure size 576x576 with 2 Axes>"
      ]
     },
     "metadata": {
      "needs_background": "light"
     },
     "output_type": "display_data"
    }
   ],
   "source": [
    "epochs=150\n",
    "import matplotlib.pyplot as plt\n",
    "plt.figure(figsize=(8,8))\n",
    "\n",
    "plt.subplot(1,2,1)\n",
    "plt.plot(range(epochs),acc,label=\"training accuracy\")\n",
    "plt.plot(range(epochs),val_acc,label=\"validation accuracy\")\n",
    "plt.legend()\n",
    "plt.title('Training vs Validation Accuracy')\n",
    "\n",
    "plt.subplot(1,2,2)\n",
    "plt.plot(range(epochs), loss, label=\"training loss\")\n",
    "plt.plot(range(epochs), val_loss, label=\"validation loss\")\n",
    "plt.legend()\n",
    "plt.title('Training vs Validation Loss')\n",
    "plt.show()"
   ]
  },
  {
   "cell_type": "code",
   "execution_count": 61,
   "id": "5fefb987",
   "metadata": {},
   "outputs": [],
   "source": [
    "file = \"Chat_bot_epochs_150.h5\"\n",
    "model.save(file)"
   ]
  },
  {
   "cell_type": "markdown",
   "id": "f003a24a",
   "metadata": {},
   "source": [
    "## Evaluating given tests"
   ]
  },
  {
   "cell_type": "code",
   "execution_count": 63,
   "id": "58b84c84",
   "metadata": {},
   "outputs": [
    {
     "name": "stdout",
     "output_type": "stream",
     "text": [
      "32/32 [==============================] - 1s 7ms/step\n"
     ]
    }
   ],
   "source": [
    "model.load_weights(file)\n",
    "pred_results = model.predict(([inputs_test, queries_test]))"
   ]
  },
  {
   "cell_type": "code",
   "execution_count": 64,
   "id": "476e397d",
   "metadata": {},
   "outputs": [
    {
     "data": {
      "text/plain": [
       "['Mary',\n",
       " 'got',\n",
       " 'the',\n",
       " 'milk',\n",
       " 'there',\n",
       " '.',\n",
       " 'John',\n",
       " 'moved',\n",
       " 'to',\n",
       " 'the',\n",
       " 'bedroom',\n",
       " '.']"
      ]
     },
     "execution_count": 64,
     "metadata": {},
     "output_type": "execute_result"
    }
   ],
   "source": [
    "test_data[0][0]"
   ]
  },
  {
   "cell_type": "code",
   "execution_count": 65,
   "id": "a084aafb",
   "metadata": {},
   "outputs": [
    {
     "name": "stdout",
     "output_type": "stream",
     "text": [
      "Story: Mary moved to the bathroom . Sandra journeyed to the bedroom . \n",
      "Question: Is Sandra in the hallway ? \n",
      "Answer: no\n"
     ]
    }
   ],
   "source": [
    "print(f\"Story: {' '.join(train_data[0][0])} \\nQuestion: {' '.join(train_data[0][1])} \\nAnswer: {train_data[0][2]}\")"
   ]
  },
  {
   "cell_type": "code",
   "execution_count": 66,
   "id": "0d913816",
   "metadata": {},
   "outputs": [
    {
     "name": "stdout",
     "output_type": "stream",
     "text": [
      "Predicted answer is:  no\n",
      "Probability of certainty was:  1.0\n"
     ]
    }
   ],
   "source": [
    "#Generate prediction from model\n",
    "val_max = np.argmax(pred_results[0])\n",
    "\n",
    "for key, val in tokenizer.word_index.items():\n",
    "    if val == val_max:\n",
    "        k = key\n",
    "\n",
    "print(\"Predicted answer is: \", k)\n",
    "print(\"Probability of certainty was: \", pred_results[0][val_max])"
   ]
  },
  {
   "cell_type": "markdown",
   "id": "b981f684",
   "metadata": {},
   "source": [
    "## Writing your own stories and questions"
   ]
  },
  {
   "cell_type": "code",
   "execution_count": 67,
   "id": "7882012c",
   "metadata": {},
   "outputs": [
    {
     "data": {
      "text/plain": [
       "{'.',\n",
       " '?',\n",
       " 'Daniel',\n",
       " 'Is',\n",
       " 'John',\n",
       " 'Mary',\n",
       " 'Sandra',\n",
       " 'apple',\n",
       " 'back',\n",
       " 'bathroom',\n",
       " 'bedroom',\n",
       " 'discarded',\n",
       " 'down',\n",
       " 'dropped',\n",
       " 'football',\n",
       " 'garden',\n",
       " 'got',\n",
       " 'grabbed',\n",
       " 'hallway',\n",
       " 'in',\n",
       " 'journeyed',\n",
       " 'kitchen',\n",
       " 'left',\n",
       " 'milk',\n",
       " 'moved',\n",
       " 'no',\n",
       " 'office',\n",
       " 'picked',\n",
       " 'put',\n",
       " 'the',\n",
       " 'there',\n",
       " 'to',\n",
       " 'took',\n",
       " 'travelled',\n",
       " 'up',\n",
       " 'went',\n",
       " 'yes'}"
      ]
     },
     "execution_count": 67,
     "metadata": {},
     "output_type": "execute_result"
    }
   ],
   "source": [
    "#We can only use the words from following vocab\n",
    "vocab"
   ]
  },
  {
   "cell_type": "code",
   "execution_count": 93,
   "id": "9667ddcf",
   "metadata": {},
   "outputs": [
    {
     "data": {
      "text/plain": [
       "['John',\n",
       " 'left',\n",
       " 'the',\n",
       " 'kitchen',\n",
       " '.',\n",
       " 'Sandra',\n",
       " 'dropped',\n",
       " 'the',\n",
       " 'football',\n",
       " 'in',\n",
       " 'the',\n",
       " 'garden',\n",
       " '.']"
      ]
     },
     "execution_count": 93,
     "metadata": {},
     "output_type": "execute_result"
    }
   ],
   "source": [
    "my_story = \"John left the kitchen . Sandra dropped the football in the garden .\"\n",
    "my_story.split()"
   ]
  },
  {
   "cell_type": "code",
   "execution_count": 94,
   "id": "d938ef8d",
   "metadata": {},
   "outputs": [
    {
     "data": {
      "text/plain": [
       "['Is', 'John', 'in', 'the', 'kitchen', '?']"
      ]
     },
     "execution_count": 94,
     "metadata": {},
     "output_type": "execute_result"
    }
   ],
   "source": [
    "my_question = \"Is John in the kitchen ?\"\n",
    "my_question.split()"
   ]
  },
  {
   "cell_type": "code",
   "execution_count": 95,
   "id": "375e0369",
   "metadata": {},
   "outputs": [],
   "source": [
    "mydata = [(my_story.split(),my_question.split(),'no')]"
   ]
  },
  {
   "cell_type": "code",
   "execution_count": 96,
   "id": "a74edfd6",
   "metadata": {},
   "outputs": [],
   "source": [
    "my_story, my_q, ans = vectorize_stories(mydata)"
   ]
  },
  {
   "cell_type": "code",
   "execution_count": 97,
   "id": "cefdb27b",
   "metadata": {},
   "outputs": [
    {
     "name": "stdout",
     "output_type": "stream",
     "text": [
      "1/1 [==============================] - 0s 35ms/step\n"
     ]
    }
   ],
   "source": [
    "pred_results = model.predict(([ my_story, my_q]))"
   ]
  },
  {
   "cell_type": "code",
   "execution_count": 98,
   "id": "08e9558f",
   "metadata": {},
   "outputs": [
    {
     "name": "stdout",
     "output_type": "stream",
     "text": [
      "Predicted answer is:  no\n",
      "Probability of certainty was:  0.99999857\n"
     ]
    }
   ],
   "source": [
    "#Generate prediction from model\n",
    "val_max = np.argmax(pred_results[0])\n",
    "\n",
    "for key, val in tokenizer.word_index.items():\n",
    "    if val == val_max:\n",
    "        k = key\n",
    "\n",
    "print(\"Predicted answer is: \", k)\n",
    "print(\"Probability of certainty was: \", pred_results[0][val_max])"
   ]
  },
  {
   "cell_type": "code",
   "execution_count": null,
   "id": "9acf5e90",
   "metadata": {},
   "outputs": [],
   "source": []
  }
 ],
 "metadata": {
  "kernelspec": {
   "display_name": "Python 3 (ipykernel)",
   "language": "python",
   "name": "python3"
  },
  "language_info": {
   "codemirror_mode": {
    "name": "ipython",
    "version": 3
   },
   "file_extension": ".py",
   "mimetype": "text/x-python",
   "name": "python",
   "nbconvert_exporter": "python",
   "pygments_lexer": "ipython3",
   "version": "3.9.12"
  }
 },
 "nbformat": 4,
 "nbformat_minor": 5
}
